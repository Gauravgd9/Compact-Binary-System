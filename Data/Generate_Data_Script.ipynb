{
  "nbformat": 4,
  "nbformat_minor": 0,
  "metadata": {
    "colab": {
      "name": "Generate_Data_Script.ipynb",
      "provenance": []
    },
    "kernelspec": {
      "name": "python3",
      "display_name": "Python 3"
    }
  },
  "cells": [
    {
      "cell_type": "markdown",
      "metadata": {
        "id": "jNF9LPlEHZpD"
      },
      "source": [
        "## This Script will generate a dataframe for the mass and spin of the objects in a binary compact system based on the detected error range."
      ]
    },
    {
      "cell_type": "markdown",
      "metadata": {
        "id": "iuW1WHiMES27"
      },
      "source": [
        "Import Libraries"
      ]
    },
    {
      "cell_type": "code",
      "metadata": {
        "id": "slyfS_84txUE"
      },
      "source": [
        "import numpy as np\n",
        "import pandas as pd\n",
        "import matplotlib.pyplot as plt"
      ],
      "execution_count": 1,
      "outputs": []
    },
    {
      "cell_type": "code",
      "metadata": {
        "id": "jxFJgojz5GLr"
      },
      "source": [
        "global lengthOfDataSet \n",
        "lengthOfDataSet = 25"
      ],
      "execution_count": 2,
      "outputs": []
    },
    {
      "cell_type": "markdown",
      "metadata": {
        "id": "acKg0nuLEe1W"
      },
      "source": [
        "This function will generate random numbers within the range and return a Pandas Dataframe containing."
      ]
    },
    {
      "cell_type": "code",
      "metadata": {
        "id": "45Vp623yv0vi"
      },
      "source": [
        "def generateData(lowerRange, upperRange, columnName, precision):\n",
        "  arr = np.random.uniform(lowerRange, upperRange,size = (lengthOfDataSet + 15, 1)).flatten()\n",
        "  for _ in range (len(arr)):\n",
        "    arr[_] = np.round(arr[_], precision)\n",
        "  # will only keep unique values\n",
        "  arr = list(set(arr))\n",
        "  # replacing last 5 values to have variety in the data\n",
        "  # arr[lengthOfDataSet-1 : lengthOfDataSet + 4] = arr[-1:-6]\n",
        "  arr = arr[:lengthOfDataSet]\n",
        "  sortedArray = np.sort(arr)\n",
        "  return pd.DataFrame(sortedArray, columns = [columnName],index = None)"
      ],
      "execution_count": 3,
      "outputs": []
    },
    {
      "cell_type": "markdown",
      "metadata": {
        "id": "OHvBjZPdFSL2"
      },
      "source": [
        "Upper and Lower error limits of the mass and spin"
      ]
    },
    {
      "cell_type": "code",
      "metadata": {
        "id": "IUh4iKkawYJc"
      },
      "source": [
        "m1Upper = 39.4 + 5.5\n",
        "m1Lower = 39.4 - 4.9\n",
        "\n",
        "m2Upper = 30.9 + 4.8\n",
        "m2Lower = 30.9 - 4.4\n",
        "\n",
        "a1Upper = 0.32 + 0.45\n",
        "a1Lower = 0.32 - 0.28\n",
        "\n",
        "a2Upper = 0.57 + 0.40\n",
        "a2Lower = 0.57 - 0.51 \n",
        "\n",
        "spin_precision = 2\n",
        "mass_precision = 1\n"
      ],
      "execution_count": 4,
      "outputs": []
    },
    {
      "cell_type": "markdown",
      "metadata": {
        "id": "m-wgM3ELFez7"
      },
      "source": [
        "Creating columns"
      ]
    },
    {
      "cell_type": "code",
      "metadata": {
        "id": "ICcVfvvz0VwX"
      },
      "source": [
        "m1 = pd.DataFrame(generateData(m1Lower, m1Upper, \"Primary Mass\", mass_precision))\n",
        "m2 = pd.DataFrame(generateData(m2Lower, m2Upper, \"Secondary Mass\", mass_precision))\n",
        "a1 = pd.DataFrame(generateData(a1Lower, a1Upper, \"Primary Spin\", spin_precision))\n",
        "a2 = pd.DataFrame(generateData(a2Lower, a2Upper, \"Secondary Spin\", spin_precision))"
      ],
      "execution_count": 5,
      "outputs": []
    },
    {
      "cell_type": "markdown",
      "metadata": {
        "id": "pqw2lHwKFl0N"
      },
      "source": [
        "Merging into a single dataframe"
      ]
    },
    {
      "cell_type": "code",
      "metadata": {
        "colab": {
          "base_uri": "https://localhost:8080/",
          "height": 824
        },
        "id": "eBSGWYfC-RxA",
        "outputId": "17edd109-4514-4d59-b3f5-61dfa1450b55"
      },
      "source": [
        "columns = [m1, m2, a1, a2]\n",
        "dataframe = pd.concat(columns, axis=1)\n",
        "dataframe.head(25)"
      ],
      "execution_count": 6,
      "outputs": [
        {
          "output_type": "execute_result",
          "data": {
            "text/html": [
              "<div>\n",
              "<style scoped>\n",
              "    .dataframe tbody tr th:only-of-type {\n",
              "        vertical-align: middle;\n",
              "    }\n",
              "\n",
              "    .dataframe tbody tr th {\n",
              "        vertical-align: top;\n",
              "    }\n",
              "\n",
              "    .dataframe thead th {\n",
              "        text-align: right;\n",
              "    }\n",
              "</style>\n",
              "<table border=\"1\" class=\"dataframe\">\n",
              "  <thead>\n",
              "    <tr style=\"text-align: right;\">\n",
              "      <th></th>\n",
              "      <th>Primary Mass</th>\n",
              "      <th>Secondary Mass</th>\n",
              "      <th>Primary Spin</th>\n",
              "      <th>Secondary Spin</th>\n",
              "    </tr>\n",
              "  </thead>\n",
              "  <tbody>\n",
              "    <tr>\n",
              "      <th>0</th>\n",
              "      <td>34.5</td>\n",
              "      <td>26.7</td>\n",
              "      <td>0.09</td>\n",
              "      <td>0.06</td>\n",
              "    </tr>\n",
              "    <tr>\n",
              "      <th>1</th>\n",
              "      <td>34.6</td>\n",
              "      <td>27.3</td>\n",
              "      <td>0.12</td>\n",
              "      <td>0.16</td>\n",
              "    </tr>\n",
              "    <tr>\n",
              "      <th>2</th>\n",
              "      <td>34.9</td>\n",
              "      <td>27.6</td>\n",
              "      <td>0.16</td>\n",
              "      <td>0.18</td>\n",
              "    </tr>\n",
              "    <tr>\n",
              "      <th>3</th>\n",
              "      <td>35.2</td>\n",
              "      <td>27.7</td>\n",
              "      <td>0.19</td>\n",
              "      <td>0.20</td>\n",
              "    </tr>\n",
              "    <tr>\n",
              "      <th>4</th>\n",
              "      <td>35.4</td>\n",
              "      <td>28.0</td>\n",
              "      <td>0.20</td>\n",
              "      <td>0.23</td>\n",
              "    </tr>\n",
              "    <tr>\n",
              "      <th>5</th>\n",
              "      <td>35.5</td>\n",
              "      <td>28.1</td>\n",
              "      <td>0.23</td>\n",
              "      <td>0.25</td>\n",
              "    </tr>\n",
              "    <tr>\n",
              "      <th>6</th>\n",
              "      <td>35.6</td>\n",
              "      <td>28.3</td>\n",
              "      <td>0.25</td>\n",
              "      <td>0.26</td>\n",
              "    </tr>\n",
              "    <tr>\n",
              "      <th>7</th>\n",
              "      <td>35.7</td>\n",
              "      <td>28.9</td>\n",
              "      <td>0.26</td>\n",
              "      <td>0.29</td>\n",
              "    </tr>\n",
              "    <tr>\n",
              "      <th>8</th>\n",
              "      <td>35.8</td>\n",
              "      <td>29.1</td>\n",
              "      <td>0.29</td>\n",
              "      <td>0.36</td>\n",
              "    </tr>\n",
              "    <tr>\n",
              "      <th>9</th>\n",
              "      <td>36.2</td>\n",
              "      <td>29.4</td>\n",
              "      <td>0.32</td>\n",
              "      <td>0.43</td>\n",
              "    </tr>\n",
              "    <tr>\n",
              "      <th>10</th>\n",
              "      <td>36.4</td>\n",
              "      <td>29.6</td>\n",
              "      <td>0.35</td>\n",
              "      <td>0.44</td>\n",
              "    </tr>\n",
              "    <tr>\n",
              "      <th>11</th>\n",
              "      <td>36.6</td>\n",
              "      <td>29.8</td>\n",
              "      <td>0.36</td>\n",
              "      <td>0.53</td>\n",
              "    </tr>\n",
              "    <tr>\n",
              "      <th>12</th>\n",
              "      <td>37.2</td>\n",
              "      <td>30.2</td>\n",
              "      <td>0.37</td>\n",
              "      <td>0.60</td>\n",
              "    </tr>\n",
              "    <tr>\n",
              "      <th>13</th>\n",
              "      <td>37.9</td>\n",
              "      <td>30.4</td>\n",
              "      <td>0.41</td>\n",
              "      <td>0.61</td>\n",
              "    </tr>\n",
              "    <tr>\n",
              "      <th>14</th>\n",
              "      <td>38.5</td>\n",
              "      <td>30.7</td>\n",
              "      <td>0.43</td>\n",
              "      <td>0.62</td>\n",
              "    </tr>\n",
              "    <tr>\n",
              "      <th>15</th>\n",
              "      <td>38.9</td>\n",
              "      <td>31.5</td>\n",
              "      <td>0.45</td>\n",
              "      <td>0.65</td>\n",
              "    </tr>\n",
              "    <tr>\n",
              "      <th>16</th>\n",
              "      <td>39.4</td>\n",
              "      <td>32.3</td>\n",
              "      <td>0.49</td>\n",
              "      <td>0.67</td>\n",
              "    </tr>\n",
              "    <tr>\n",
              "      <th>17</th>\n",
              "      <td>39.8</td>\n",
              "      <td>33.3</td>\n",
              "      <td>0.52</td>\n",
              "      <td>0.79</td>\n",
              "    </tr>\n",
              "    <tr>\n",
              "      <th>18</th>\n",
              "      <td>40.2</td>\n",
              "      <td>33.7</td>\n",
              "      <td>0.53</td>\n",
              "      <td>0.80</td>\n",
              "    </tr>\n",
              "    <tr>\n",
              "      <th>19</th>\n",
              "      <td>41.4</td>\n",
              "      <td>33.8</td>\n",
              "      <td>0.54</td>\n",
              "      <td>0.82</td>\n",
              "    </tr>\n",
              "    <tr>\n",
              "      <th>20</th>\n",
              "      <td>41.7</td>\n",
              "      <td>34.0</td>\n",
              "      <td>0.68</td>\n",
              "      <td>0.84</td>\n",
              "    </tr>\n",
              "    <tr>\n",
              "      <th>21</th>\n",
              "      <td>42.2</td>\n",
              "      <td>34.1</td>\n",
              "      <td>0.70</td>\n",
              "      <td>0.86</td>\n",
              "    </tr>\n",
              "    <tr>\n",
              "      <th>22</th>\n",
              "      <td>42.7</td>\n",
              "      <td>34.2</td>\n",
              "      <td>0.73</td>\n",
              "      <td>0.89</td>\n",
              "    </tr>\n",
              "    <tr>\n",
              "      <th>23</th>\n",
              "      <td>43.6</td>\n",
              "      <td>35.4</td>\n",
              "      <td>0.75</td>\n",
              "      <td>0.92</td>\n",
              "    </tr>\n",
              "    <tr>\n",
              "      <th>24</th>\n",
              "      <td>44.8</td>\n",
              "      <td>35.6</td>\n",
              "      <td>0.77</td>\n",
              "      <td>0.95</td>\n",
              "    </tr>\n",
              "  </tbody>\n",
              "</table>\n",
              "</div>"
            ],
            "text/plain": [
              "    Primary Mass  Secondary Mass  Primary Spin  Secondary Spin\n",
              "0           34.5            26.7          0.09            0.06\n",
              "1           34.6            27.3          0.12            0.16\n",
              "2           34.9            27.6          0.16            0.18\n",
              "3           35.2            27.7          0.19            0.20\n",
              "4           35.4            28.0          0.20            0.23\n",
              "5           35.5            28.1          0.23            0.25\n",
              "6           35.6            28.3          0.25            0.26\n",
              "7           35.7            28.9          0.26            0.29\n",
              "8           35.8            29.1          0.29            0.36\n",
              "9           36.2            29.4          0.32            0.43\n",
              "10          36.4            29.6          0.35            0.44\n",
              "11          36.6            29.8          0.36            0.53\n",
              "12          37.2            30.2          0.37            0.60\n",
              "13          37.9            30.4          0.41            0.61\n",
              "14          38.5            30.7          0.43            0.62\n",
              "15          38.9            31.5          0.45            0.65\n",
              "16          39.4            32.3          0.49            0.67\n",
              "17          39.8            33.3          0.52            0.79\n",
              "18          40.2            33.7          0.53            0.80\n",
              "19          41.4            33.8          0.54            0.82\n",
              "20          41.7            34.0          0.68            0.84\n",
              "21          42.2            34.1          0.70            0.86\n",
              "22          42.7            34.2          0.73            0.89\n",
              "23          43.6            35.4          0.75            0.92\n",
              "24          44.8            35.6          0.77            0.95"
            ]
          },
          "metadata": {
            "tags": []
          },
          "execution_count": 6
        }
      ]
    },
    {
      "cell_type": "markdown",
      "metadata": {
        "id": "OgySY4u8Fp5s"
      },
      "source": [
        "Convert the DF to a csv file and save it"
      ]
    },
    {
      "cell_type": "code",
      "metadata": {
        "id": "6IIdCVaTAen6"
      },
      "source": [
        "import os\n",
        "path = ' '\n",
        "dataframe.to_csv(os.path.join(path,'data.csv'), index = None)"
      ],
      "execution_count": 9,
      "outputs": []
    }
  ]
}
